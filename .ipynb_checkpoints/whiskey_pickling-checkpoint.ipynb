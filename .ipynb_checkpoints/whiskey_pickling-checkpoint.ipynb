{
 "cells": [
  {
   "cell_type": "code",
   "execution_count": 1,
   "metadata": {},
   "outputs": [],
   "source": [
    "import pandas as pd\n",
    "import pickle\n",
    "from bs4 import BeautifulSoup\n",
    "import requests"
   ]
  },
  {
   "cell_type": "code",
   "execution_count": 2,
   "metadata": {},
   "outputs": [],
   "source": [
    "#Gets source code from whiskyadvocate.com and makes it readable using beautiful soup\n",
    "\n",
    "source_code_1 = requests.get('https://www.whiskyadvocate.com/ratings-reviews/?search=&submit=+&brand_id=0&rating=95-100&price=0&category=0&styles_id=0&issue_id=0')\n",
    "source_code_2 = requests.get('https://www.whiskyadvocate.com/ratings-reviews/?search=&submit=+&brand_id=0&rating=90-94&price=0&category=0&styles_id=0&issue_id=0')\n",
    "source_code_3 = requests.get('https://www.whiskyadvocate.com/ratings-reviews/?search=&submit=+&brand_id=0&rating=80-89&price=0&category=0&styles_id=0&issue_id=0')\n",
    "source_code_4 = requests.get('https://www.whiskyadvocate.com/ratings-reviews/?search=&submit=+&brand_id=0&rating=70-79&price=0&category=0&styles_id=0&issue_id=0')\n",
    "source_code_5 = requests.get('https://www.whiskyadvocate.com/ratings-reviews/?search=&submit=+&brand_id=0&rating=60-69&price=0&category=0&styles_id=0&issue_id=0')\n",
    "soup_1 = BeautifulSoup(source_code_1.text, 'html5lib')\n",
    "soup_2 = BeautifulSoup(source_code_2.text, 'html5lib')\n",
    "soup_3 = BeautifulSoup(source_code_3.text, 'html5lib')\n",
    "soup_4 = BeautifulSoup(source_code_4.text, 'html5lib')\n",
    "soup_5 = BeautifulSoup(source_code_5.text, 'html5lib')"
   ]
  },
  {
   "cell_type": "code",
   "execution_count": 5,
   "metadata": {},
   "outputs": [],
   "source": [
    "# Collect soup files into soups and creates new empty list for the whisky data\n",
    "soups = [soup_1, soup_2, soup_3, soup_4, soup_5]\n",
    "whiskey_data = []"
   ]
  },
  {
   "cell_type": "code",
   "execution_count": 6,
   "metadata": {},
   "outputs": [],
   "source": [
    "# Collects all relevant information into list review_data\n",
    "review_data = []\n",
    "for soup in soups:\n",
    "    review_data.extend(soup.find('div', class_=\"ratings-grid-holder row-holder flex-row-holder no-line\")\\\n",
    "              .find_all('article'))"
   ]
  },
  {
   "cell_type": "code",
   "execution_count": 7,
   "metadata": {},
   "outputs": [],
   "source": [
    "# Taks the relevant data and puts it into the whiskey_data list\n",
    "for review in review_data:\n",
    "    rating = review.find('span').get_text()\n",
    "    name = review.find('h1').get_text()\n",
    "    review_2 = review.find('div', class_=\"printable-section\")\n",
    "    category = review_2.find('span', itemprop=\"category\").get_text()\n",
    "    price = review_2.find('span', itemprop=\"price\").get_text()\n",
    "    reviewer = review_2.find('span', itemprop=\"author\").get_text()\n",
    "    date = review_2.find_all('div', class_=\"review-text\")[-1].find('a').get_text()\n",
    "    description = review_2.find('div', class_=\"review-text\").get_text().strip().lower()\n",
    "    whiskey_data.append([rating, name, category, price, reviewer, date, description])"
   ]
  },
  {
   "cell_type": "code",
   "execution_count": 8,
   "metadata": {},
   "outputs": [],
   "source": [
    "# Converts the whiskey_data list into a dataframe\n",
    "df = pd.DataFrame(whiskey_data, columns = ['Rating', 'Name', 'Category', 'Price', 'Reviewer', 'Date', 'Description'])"
   ]
  },
  {
   "cell_type": "code",
   "execution_count": 9,
   "metadata": {},
   "outputs": [
    {
     "data": {
      "text/plain": [
       "(5338, 7)"
      ]
     },
     "execution_count": 9,
     "metadata": {},
     "output_type": "execute_result"
    }
   ],
   "source": [
    "df.shape"
   ]
  },
  {
   "cell_type": "code",
   "execution_count": 10,
   "metadata": {},
   "outputs": [
    {
     "data": {
      "text/html": [
       "<div>\n",
       "<style scoped>\n",
       "    .dataframe tbody tr th:only-of-type {\n",
       "        vertical-align: middle;\n",
       "    }\n",
       "\n",
       "    .dataframe tbody tr th {\n",
       "        vertical-align: top;\n",
       "    }\n",
       "\n",
       "    .dataframe thead th {\n",
       "        text-align: right;\n",
       "    }\n",
       "</style>\n",
       "<table border=\"1\" class=\"dataframe\">\n",
       "  <thead>\n",
       "    <tr style=\"text-align: right;\">\n",
       "      <th></th>\n",
       "      <th>Rating</th>\n",
       "      <th>Name</th>\n",
       "      <th>Category</th>\n",
       "      <th>Price</th>\n",
       "      <th>Reviewer</th>\n",
       "      <th>Date</th>\n",
       "      <th>Description</th>\n",
       "    </tr>\n",
       "  </thead>\n",
       "  <tbody>\n",
       "    <tr>\n",
       "      <th>0</th>\n",
       "      <td>97</td>\n",
       "      <td>Johnnie Walker Blue Label, 40%</td>\n",
       "      <td>Blended Scotch Whisky</td>\n",
       "      <td>225</td>\n",
       "      <td>Jonny McCormick</td>\n",
       "      <td>Spring 2018</td>\n",
       "      <td>magnificently powerful and intense. caramels, ...</td>\n",
       "    </tr>\n",
       "    <tr>\n",
       "      <th>1</th>\n",
       "      <td>97</td>\n",
       "      <td>Four Roses Limited Edition Small Batch (2013 R...</td>\n",
       "      <td>Bourbon/Tennessee</td>\n",
       "      <td>85</td>\n",
       "      <td>John Hansell</td>\n",
       "      <td>Winter 2013</td>\n",
       "      <td>a marriage of 13 and 18 year old bourbons. a m...</td>\n",
       "    </tr>\n",
       "    <tr>\n",
       "      <th>2</th>\n",
       "      <td>97</td>\n",
       "      <td>Bowmore 46 year old (distilled 1964), 42.9%</td>\n",
       "      <td>Single Malt Scotch</td>\n",
       "      <td>13500</td>\n",
       "      <td>Dave Broom</td>\n",
       "      <td>Fall 2012</td>\n",
       "      <td>there have been some legendary bowmores from t...</td>\n",
       "    </tr>\n",
       "    <tr>\n",
       "      <th>3</th>\n",
       "      <td>97</td>\n",
       "      <td>Parker's Heritage Collection, 'Golden Annivers...</td>\n",
       "      <td>Bourbon/Tennessee</td>\n",
       "      <td>150.00</td>\n",
       "      <td>John Hansell</td>\n",
       "      <td>Fall 2009</td>\n",
       "      <td>this bottling celebrates master distiller park...</td>\n",
       "    </tr>\n",
       "    <tr>\n",
       "      <th>4</th>\n",
       "      <td>97</td>\n",
       "      <td>Black Bowmore 42 year old 1964 vintage, 40.5%</td>\n",
       "      <td>Single Malt Scotch</td>\n",
       "      <td>4500</td>\n",
       "      <td>John Hansell</td>\n",
       "      <td>Summer 2008</td>\n",
       "      <td>what impresses me most is how this whisky evol...</td>\n",
       "    </tr>\n",
       "  </tbody>\n",
       "</table>\n",
       "</div>"
      ],
      "text/plain": [
       "  Rating                                               Name  \\\n",
       "0     97                     Johnnie Walker Blue Label, 40%   \n",
       "1     97  Four Roses Limited Edition Small Batch (2013 R...   \n",
       "2     97        Bowmore 46 year old (distilled 1964), 42.9%   \n",
       "3     97  Parker's Heritage Collection, 'Golden Annivers...   \n",
       "4     97      Black Bowmore 42 year old 1964 vintage, 40.5%   \n",
       "\n",
       "                Category   Price         Reviewer         Date  \\\n",
       "0  Blended Scotch Whisky     225  Jonny McCormick  Spring 2018   \n",
       "1      Bourbon/Tennessee      85     John Hansell  Winter 2013   \n",
       "2     Single Malt Scotch   13500       Dave Broom    Fall 2012   \n",
       "3      Bourbon/Tennessee  150.00     John Hansell    Fall 2009   \n",
       "4     Single Malt Scotch    4500     John Hansell  Summer 2008   \n",
       "\n",
       "                                         Description  \n",
       "0  magnificently powerful and intense. caramels, ...  \n",
       "1  a marriage of 13 and 18 year old bourbons. a m...  \n",
       "2  there have been some legendary bowmores from t...  \n",
       "3  this bottling celebrates master distiller park...  \n",
       "4  what impresses me most is how this whisky evol...  "
      ]
     },
     "execution_count": 10,
     "metadata": {},
     "output_type": "execute_result"
    }
   ],
   "source": [
    "df.head()"
   ]
  },
  {
   "cell_type": "code",
   "execution_count": 11,
   "metadata": {},
   "outputs": [],
   "source": [
    "# Saves dataframe as a pickle file\n",
    "with open('whiskey_advocate.pickle', 'wb') as to_write:\n",
    "    pickle.dump(df, to_write)"
   ]
  },
  {
   "cell_type": "code",
   "execution_count": null,
   "metadata": {},
   "outputs": [],
   "source": []
  }
 ],
 "metadata": {
  "kernelspec": {
   "display_name": "Python 3",
   "language": "python",
   "name": "python3"
  },
  "language_info": {
   "codemirror_mode": {
    "name": "ipython",
    "version": 3
   },
   "file_extension": ".py",
   "mimetype": "text/x-python",
   "name": "python",
   "nbconvert_exporter": "python",
   "pygments_lexer": "ipython3",
   "version": "3.8.5"
  }
 },
 "nbformat": 4,
 "nbformat_minor": 4
}
